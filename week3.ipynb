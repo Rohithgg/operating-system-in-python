{
 "cells": [
  {
   "cell_type": "code",
   "id": "initial_id",
   "metadata": {
    "collapsed": true,
    "ExecuteTime": {
     "end_time": "2024-09-11T09:18:35.658551Z",
     "start_time": "2024-09-11T09:18:35.648877Z"
    }
   },
   "source": [
    "class StudentRecord:\n",
    " def __init__(self, name, student_id, grade, address):\n",
    "    self.name = name\n",
    "    self.student_id = student_id\n",
    "    self.grade = grade\n",
    "    self.address = address\n",
    " def __str__(self):\n",
    "    return f\"Name: {self.name}, ID: {self.student_id}, Grade: {self.grade},Address: {self.address}\"\n",
    "class SequentialFileAllocation:\n",
    "    def __init__(self, block_size):\n",
    "        self.disk_blocks = []\n",
    "        self.fat = {} \n",
    "        self.block_size = block_size\n",
    "        self.next_free_block = 0\n",
    "    def add_record(self, student_record):\n",
    "        self.student_record = student_record\n",
    "        \n",
    "        return True\n",
    "    def get_record(self, student_id):\n",
    "        self.student_id = student_id\n",
    "        for i in range(len(student_records)):\n",
    "            if student_id == (student_records[i]):\n",
    "                return True\n",
    "        return None\n",
    "    def calculate_record_size(self, student_record):\n",
    "        return len(str(student_record))\n",
    "    def print_disk_status(self):\n",
    "        self.block_size = block_size\n",
    "        print(f\"Block no. {block_size}: {block_size.bit_length()}\")\n",
    "        return \n",
    "# Driver Code\n",
    "block_size = 1\n",
    "file_system = SequentialFileAllocation(block_size) \n",
    "student_records = [\n",
    "     StudentRecord (\"John Doe\", 101, 10, \"123 Main Street\"),\n",
    "     StudentRecord (\"Jane Smith\", 102, 11, \"456 Elm Street\"),\n",
    "     StudentRecord (\"Michael Brown\", 103, 9, \"789 Oak Avenue\") \n",
    "     ]\n",
    "for record in student_records:\n",
    " file_system.add_record (record)\n",
    "file_system.print_disk_status()\n",
    "student_id = 102\n",
    "retrieved_record = file_system.get_record(student_id)\n",
    "if retrieved_record:\n",
    "    print(f\"\\n Retrieved Record for ID {student_id}:\")\n",
    "    print(retrieved_record)\n",
    "else:\n",
    "    print(f\"\\n Record with ID {student_id} not found.\")\n",
    "print(file_system.calculate_record_size())"
   ],
   "outputs": [
    {
     "name": "stdout",
     "output_type": "stream",
     "text": [
      "\n",
      " Record with ID 102 not found.\n"
     ]
    }
   ],
   "execution_count": 4
  },
  {
   "metadata": {
    "ExecuteTime": {
     "end_time": "2024-09-11T09:31:54.182091Z",
     "start_time": "2024-09-11T09:31:54.177329Z"
    }
   },
   "cell_type": "code",
   "source": "print(block_size)",
   "id": "47ffb35509784536",
   "outputs": [
    {
     "name": "stdout",
     "output_type": "stream",
     "text": [
      "1\n"
     ]
    }
   ],
   "execution_count": 5
  }
 ],
 "metadata": {
  "kernelspec": {
   "display_name": "Python 3",
   "language": "python",
   "name": "python3"
  },
  "language_info": {
   "codemirror_mode": {
    "name": "ipython",
    "version": 2
   },
   "file_extension": ".py",
   "mimetype": "text/x-python",
   "name": "python",
   "nbconvert_exporter": "python",
   "pygments_lexer": "ipython2",
   "version": "2.7.6"
  }
 },
 "nbformat": 4,
 "nbformat_minor": 5
}
