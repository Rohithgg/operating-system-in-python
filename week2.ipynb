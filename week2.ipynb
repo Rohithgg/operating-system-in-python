{
 "cells": [
  {
   "cell_type": "code",
   "id": "initial_id",
   "metadata": {
    "collapsed": true,
    "ExecuteTime": {
     "end_time": "2024-09-11T09:57:03.578883Z",
     "start_time": "2024-09-11T09:57:03.571777Z"
    }
   },
   "source": [
    "from platform import system\n",
    "from time import process_time\n",
    "\n",
    "from Demos.mmapfile_demo import system_info\n",
    "from jedi.cache import time_cache\n",
    "\n",
    "\n",
    "# managing system and user process\n",
    "def managingsys(syspro, userpro):\n",
    "    liss = []\n",
    "    for i in (syspro.values()):\n",
    "        liss.append(i)\n",
    "    for i in (userpro.values()):\n",
    "        liss.append(i)\n",
    "    return sum(liss)\n",
    "# main\n",
    "syspr = {\"a\": 1,\"b\": 2}\n",
    "userpr = {\"c\":3, \"d\": 4}\n",
    "print(f\"the total time taken to complete all process is: {managingsys(syspr, userpr)}\")"
   ],
   "outputs": [
    {
     "name": "stdout",
     "output_type": "stream",
     "text": [
      "the total time taken to complete all process is: 10\n"
     ]
    }
   ],
   "execution_count": 18
  },
  {
   "metadata": {
    "ExecuteTime": {
     "end_time": "2024-09-11T09:57:03.627597Z",
     "start_time": "2024-09-11T09:57:03.608764Z"
    }
   },
   "cell_type": "code",
   "source": [
    "#managing job scheduling in computing center\n",
    "def managingjob(highprior, lowprior):\n",
    "    lis = []\n",
    "    for i in (highprior.values()):\n",
    "        lis.append(i)\n",
    "    for i in (lowprior.values()):\n",
    "        lis.append(i)\n",
    "    return sum(lis)\n",
    "#main\n",
    "high = {\"a\":8,\"b\":5, \"c\":10}\n",
    "low = {\"c\":6,\"d\":3,\"e\":1}\n",
    "print(managingjob(high,low))"
   ],
   "id": "426c28629523984a",
   "outputs": [
    {
     "name": "stdout",
     "output_type": "stream",
     "text": [
      "33\n"
     ]
    }
   ],
   "execution_count": 19
  },
  {
   "metadata": {
    "ExecuteTime": {
     "end_time": "2024-09-11T09:57:03.640799Z",
     "start_time": "2024-09-11T09:57:03.636176Z"
    }
   },
   "cell_type": "code",
   "source": [
    "#managing print jobs in a shared printing environment\n",
    "def managingprinting(highpri, lowpri):\n",
    "    liss = []\n",
    "    tottime = 0\n",
    "    for i in (highpri.values()):\n",
    "        liss.append(i)\n",
    "    for i in (lowpri.values()):\n",
    "        liss.append(i)\n",
    "    for i in range(len(liss)):\n",
    "        if i <= 0:\n",
    "            tottime += liss[i]\n",
    "    return tottime\n"
   ],
   "id": "ed40916526a0cff4",
   "outputs": [],
   "execution_count": 20
  },
  {
   "metadata": {
    "ExecuteTime": {
     "end_time": "2024-09-11T09:57:03.657162Z",
     "start_time": "2024-09-11T09:57:03.652504Z"
    }
   },
   "cell_type": "code",
   "source": [
    "#task scheduling in a multi user system\n",
    "def tasksch(highpri, lowpri):\n",
    "    liss = []\n",
    "    tottime = 0\n",
    "    for i in (highpri.values()):\n",
    "        liss.append(i)\n",
    "    for i in (lowpri.values()):\n",
    "        liss.append(i)\n",
    "    for i in range(len(liss)):\n",
    "        if i <= 0:\n",
    "            tottime += liss[i]\n",
    "    return tottime\n"
   ],
   "id": "320146a48533115e",
   "outputs": [],
   "execution_count": 21
  },
  {
   "metadata": {
    "ExecuteTime": {
     "end_time": "2024-09-11T09:57:03.675229Z",
     "start_time": "2024-09-11T09:57:03.667754Z"
    }
   },
   "cell_type": "code",
   "source": [
    "#jobs scheduling in a computer cluster\n",
    "def jobssch(highpri, midpri, lowpri):\n",
    "    liss = []\n",
    "    tottime = 0\n",
    "    for i in (highpri.values()):\n",
    "        liss.append(i)\n",
    "    for i in (midpri.values()):\n",
    "        liss.append(i)\n",
    "    for i in (lowpri.values()):\n",
    "        liss.append(i)\n",
    "    for i in range(len(liss)):\n",
    "        if i <= 0:\n",
    "            tottime += liss[i]\n",
    "    return tottime\n",
    "#main\n",
    "high_priority_tasks = {'Task A': 12, 'Task B': 8, 'Task C': 15}\n",
    "medium_priority_jobs = {'Job D': 10, 'Job E': 12, 'Job F': 8}\n",
    "low_priority_tasks = {'Task D': 6, 'Task E': 4, 'Task F': 10}\n",
    "total_time = jobssch(high_priority_tasks, medium_priority_jobs, low_priority_tasks)\n",
    "print(f\"The total time required to complete all tasks is: {total_time} units\")"
   ],
   "id": "9a289e71f945f91c",
   "outputs": [
    {
     "name": "stdout",
     "output_type": "stream",
     "text": [
      "The total time required to complete all tasks is: 12 units\n"
     ]
    }
   ],
   "execution_count": 22
  },
  {
   "metadata": {
    "ExecuteTime": {
     "end_time": "2024-09-11T10:20:33.122724Z",
     "start_time": "2024-09-11T10:20:33.118673Z"
    }
   },
   "cell_type": "code",
   "source": [
    "from time import process_time, process_time_ns\n",
    "print(process_time())\n"
   ],
   "id": "b9f268511f2836d6",
   "outputs": [
    {
     "name": "stdout",
     "output_type": "stream",
     "text": [
      "0.984375\n"
     ]
    }
   ],
   "execution_count": 25
  }
 ],
 "metadata": {
  "kernelspec": {
   "display_name": "Python 3",
   "language": "python",
   "name": "python3"
  },
  "language_info": {
   "codemirror_mode": {
    "name": "ipython",
    "version": 2
   },
   "file_extension": ".py",
   "mimetype": "text/x-python",
   "name": "python",
   "nbconvert_exporter": "python",
   "pygments_lexer": "ipython2",
   "version": "2.7.6"
  }
 },
 "nbformat": 4,
 "nbformat_minor": 5
}
