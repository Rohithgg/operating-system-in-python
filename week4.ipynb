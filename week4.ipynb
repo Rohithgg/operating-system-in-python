{
 "cells": [
  {
   "cell_type": "code",
   "id": "initial_id",
   "metadata": {
    "collapsed": true,
    "jupyter": {
     "is_executing": true
    }
   },
   "source": [
    "from turtledemo.sorting_animate import partition\n",
    "\n",
    "\n",
    "#memory variables techniques\n",
    "\n",
    "class MemoryVariableTechnique: \n",
    "    def __init__(self, partitions): \n",
    "        self.partitions = partitions \n",
    "        self.memory_map = {1: [False] * partitions[1], \n",
    "                           2: [False] * partitions[2], \n",
    "                           3: [False] * partitions[3]} \n",
    "        self.processes = {} \n",
    " \n",
    "    def allocate_memory(self, process_id, size): \n",
    "        for i in range (len(self.memory_map)):\n",
    "            if (self.memory_map >= size):\n",
    "                self.memory_map[process_id][: size] = [True] * size\n",
    "                self.processes[process_id] = ()\n",
    "            else:\n",
    "                return \"error in allocation.\"\n",
    "\n",
    "    def deallocate_memory(self, process_id): \n",
    "        # Write code here  \n",
    "        del self.memory_map[process_id]\n",
    "        print(\"dealocation pass\")\n",
    "    def display_memory_status(self): \n",
    "        # Write code here  \n",
    "        return self.memory_map()\n",
    " \n",
    "# Driver Code  \n",
    "mvt = MemoryVariableTechnique({1: 300, 2: 500, 3: 200})   \n",
    " \n",
    "mvt.allocate_memory(1, 150)   \n",
    "mvt.allocate_memory(2, 400)   \n",
    "mvt.allocate_memory(3, 100)   \n",
    " \n",
    "mvt.display_memory_status() \n",
    " \n",
    "mvt.deallocate_memory(2)   \n",
    " \n",
    "print(\"\\nAfter deallocating Process 2:\") \n",
    "mvt.display_memory_status()"
   ],
   "outputs": [],
   "execution_count": null
  },
  {
   "metadata": {
    "ExecuteTime": {
     "end_time": "2024-11-27T09:22:45.230762Z",
     "start_time": "2024-11-27T09:22:45.223758Z"
    }
   },
   "cell_type": "code",
   "source": "#memory management\n",
   "id": "9d52cce38fc8c06f",
   "outputs": [],
   "execution_count": 1
  }
 ],
 "metadata": {
  "kernelspec": {
   "display_name": "Python 3",
   "language": "python",
   "name": "python3"
  },
  "language_info": {
   "codemirror_mode": {
    "name": "ipython",
    "version": 2
   },
   "file_extension": ".py",
   "mimetype": "text/x-python",
   "name": "python",
   "nbconvert_exporter": "python",
   "pygments_lexer": "ipython2",
   "version": "2.7.6"
  }
 },
 "nbformat": 4,
 "nbformat_minor": 5
}
