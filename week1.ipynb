{
 "cells": [
  {
   "cell_type": "code",
   "id": "initial_id",
   "metadata": {
    "collapsed": true,
    "ExecuteTime": {
     "end_time": "2024-09-11T04:45:11.332907Z",
     "start_time": "2024-09-11T04:45:11.315Z"
    }
   },
   "source": [
    "#busy printer\n",
    "def busyprinter(arrivaltime, page):\n",
    "    ctime = 0\n",
    "    tottime = 0\n",
    "    for i in range(len(arrivaltime)):\n",
    "        if i >= ctime:\n",
    "            tottime = arrivaltime[i] + page[i]\n",
    "        else:\n",
    "            tottime += page[i]\n",
    "    return tottime # or sum(page)\n",
    "#example\n",
    "print(f\"The total time taken to compute all printing tasks is: {busyprinter([0, 1, 3, 5],[10, 5, 3, 7])}\")"
   ],
   "outputs": [
    {
     "name": "stdout",
     "output_type": "stream",
     "text": [
      "The total time taken to compute all printing tasks is: 12\n"
     ]
    }
   ],
   "execution_count": 1
  },
  {
   "metadata": {
    "ExecuteTime": {
     "end_time": "2024-09-11T05:23:33.414Z",
     "start_time": "2024-09-11T05:23:33.395191Z"
    }
   },
   "cell_type": "code",
   "source": [
    "#software developer task \n",
    "def softwaretasktime(exetimes):\n",
    "    tottime = 0\n",
    "    arr = []\n",
    "    for i in range(len(exetimes)):\n",
    "        for j in range(i +1, len(exetimes)):\n",
    "            if exetimes[i] >= exetimes[j]:\n",
    "                exetimes[i], exetimes[j] = exetimes[j], exetimes[i]\n",
    "        arr.append(exetimes[i])\n",
    "        tottime += arr[i]\n",
    "    return tottime\n",
    "#main\n",
    "print(softwaretasktime([3, 5, 7, 4]))\n"
   ],
   "id": "237fce1d4b16940f",
   "outputs": [
    {
     "name": "stdout",
     "output_type": "stream",
     "text": [
      "19\n"
     ]
    }
   ],
   "execution_count": 2
  },
  {
   "metadata": {
    "jupyter": {
     "is_executing": true
    },
    "ExecuteTime": {
     "end_time": "2024-09-11T08:20:42.088599Z",
     "start_time": "2024-09-11T06:58:14.267114Z"
    }
   },
   "cell_type": "code",
   "source": [
    "# restaurant orders\n",
    "from collections import deque\n",
    "def roundrobin(orders, time_q):\n",
    "    tottime = 0\n",
    "    extime = 0\n",
    "    queue = deque(orders)\n",
    "    while queue:\n",
    "        currorder = queue.popleft()\n",
    "        if currorder <= time_q:\n",
    "            tottime += currorder\n",
    "        else:\n",
    "            tottime += time_q\n",
    "            queue.append(currorder)\n",
    "            \n",
    "    return tottime\n",
    "#main\n",
    "print(roundrobin([5,3,8,6],4))"
   ],
   "id": "b6d0a363bd4ece49",
   "outputs": [],
   "execution_count": null
  },
  {
   "metadata": {
    "ExecuteTime": {
     "end_time": "2024-08-27T15:27:44.141957Z",
     "start_time": "2024-08-27T15:27:44.133201Z"
    }
   },
   "cell_type": "code",
   "source": [
    "# hospital room priority\n",
    "def roomprior(patients):\n",
    "    toto = []\n",
    "    for i in patients:\n",
    "        toto.append(i[1])\n",
    "    return sum(toto)\n",
    "    \n",
    "#main\n",
    "print(roomprior([(1,10),(2,8),(3,15),(4,5)]))"
   ],
   "id": "c45fe764380abb03",
   "outputs": [
    {
     "name": "stdout",
     "output_type": "stream",
     "text": [
      "38\n"
     ]
    }
   ],
   "execution_count": 11
  }
 ],
 "metadata": {
  "kernelspec": {
   "display_name": "Python 3",
   "language": "python",
   "name": "python3"
  },
  "language_info": {
   "codemirror_mode": {
    "name": "ipython",
    "version": 2
   },
   "file_extension": ".py",
   "mimetype": "text/x-python",
   "name": "python",
   "nbconvert_exporter": "python",
   "pygments_lexer": "ipython2",
   "version": "2.7.6"
  }
 },
 "nbformat": 4,
 "nbformat_minor": 5
}
