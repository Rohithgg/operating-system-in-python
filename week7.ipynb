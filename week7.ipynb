{
 "cells": [
  {
   "cell_type": "code",
   "id": "initial_id",
   "metadata": {
    "collapsed": true,
    "ExecuteTime": {
     "end_time": "2024-11-13T10:25:20.350616Z",
     "start_time": "2024-11-13T10:25:20.300458Z"
    }
   },
   "source": [
    "# resource allocation\n",
    "class Process:\n",
    "    def __init__(self, pid):\n",
    "        self.pid = pid\n",
    "        self.dependencies = set()  # Set to store processes this process is dependent on\n",
    "\n",
    "    def add_dependency(self, process):\n",
    "        self.dependencies.add(process)\n",
    "\n",
    "    def remove_dependency(self, process):\n",
    "        self.dependencies.discard(process)\n",
    "\n",
    "    def __str__(self):\n",
    "        return f\"Process {self.pid} -> Dependencies: {[p.pid for p in self.dependencies]}\"\n",
    "\n",
    "\n",
    "class WaitForGraph:\n",
    "    def __init__(self):\n",
    "        self.processes = {}\n",
    "\n",
    "    def add_process(self, process):\n",
    "        self.processes[process.pid] = process\n",
    "\n",
    "    def add_dependency(self, process_pid, dependency_pid):\n",
    "        if process_pid in self.processes and dependency_pid in self.processes:\n",
    "            self.processes[process_pid].add_dependency(self.processes[dependency_pid])\n",
    "\n",
    "    def remove_dependency(self, process_pid, dependency_pid):\n",
    "        if process_pid in self.processes and dependency_pid in self.processes:\n",
    "            self.processes[process_pid].remove_dependency(self.processes[dependency_pid])\n",
    "\n",
    "    def detect_deadlocks(self):\n",
    "        visited = set()\n",
    "        for process in self.processes.values():\n",
    "            if self.detect_cycle(process, visited, set()):\n",
    "                return True\n",
    "        return False\n",
    "\n",
    "    def detect_cycle(self, process, visited, rec_stack):\n",
    "        if process in rec_stack:\n",
    "            return True\n",
    "        if process in visited:\n",
    "            return False\n",
    "\n",
    "        visited.add(process)\n",
    "        rec_stack.add(process)\n",
    "\n",
    "        for dependency in process.dependencies:\n",
    "            if self.detect_cycle(dependency, visited, rec_stack):\n",
    "                return True\n",
    "\n",
    "        rec_stack.remove(process)\n",
    "        return False\n",
    "\n",
    "    def print_wfg(self):\n",
    "        for process in self.processes.values():\n",
    "            print(process)\n",
    "\n",
    "\n",
    "# Driver Code\n",
    "process1 = Process(1)\n",
    "process2 = Process(2)\n",
    "process3 = Process(3)\n",
    "process4 = Process(4)\n",
    "\n",
    "wfg = WaitForGraph()\n",
    "\n",
    "wfg.add_process(process1)\n",
    "wfg.add_process(process2)\n",
    "wfg.add_process(process3)\n",
    "wfg.add_process(process4)\n",
    "\n",
    "# Adding dependencies between processes\n",
    "wfg.add_dependency(1, 2)\n",
    "wfg.add_dependency(2, 3)\n",
    "wfg.add_dependency(3, 4)\n",
    "wfg.add_dependency(4, 1)\n",
    "\n",
    "wfg.print_wfg()\n",
    "\n",
    "if wfg.detect_deadlocks():\n",
    "    print(\"Deadlock detected in the system.\")\n",
    "    wfg.remove_dependency(4, 1)\n",
    "    print(\"Deadlock resolved.\")\n",
    "else:\n",
    "    print(\"No deadlock detected.\")\n",
    "\n",
    "wfg.print_wfg()"
   ],
   "outputs": [
    {
     "name": "stdout",
     "output_type": "stream",
     "text": [
      "Process 1 -> Dependencies: [2]\n",
      "Process 2 -> Dependencies: [3]\n",
      "Process 3 -> Dependencies: [4]\n",
      "Process 4 -> Dependencies: [1]\n",
      "Deadlock detected in the system.\n",
      "Deadlock resolved.\n",
      "Process 1 -> Dependencies: [2]\n",
      "Process 2 -> Dependencies: [3]\n",
      "Process 3 -> Dependencies: [4]\n",
      "Process 4 -> Dependencies: []\n"
     ]
    }
   ],
   "execution_count": 2
  },
  {
   "metadata": {},
   "cell_type": "code",
   "outputs": [],
   "execution_count": null,
   "source": [
    "class Proccess2:\n",
    "    "
   ],
   "id": "f15c28c5d61f2f68"
  }
 ],
 "metadata": {
  "kernelspec": {
   "display_name": "Python 3",
   "language": "python",
   "name": "python3"
  },
  "language_info": {
   "codemirror_mode": {
    "name": "ipython",
    "version": 2
   },
   "file_extension": ".py",
   "mimetype": "text/x-python",
   "name": "python",
   "nbconvert_exporter": "python",
   "pygments_lexer": "ipython2",
   "version": "2.7.6"
  }
 },
 "nbformat": 4,
 "nbformat_minor": 5
}
